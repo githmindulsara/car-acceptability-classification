{
 "cells": [
  {
   "cell_type": "markdown",
   "id": "0f94c2e5-193d-4f4b-b443-462453f0ddcf",
   "metadata": {},
   "source": [
    "## Import the dataset and get to know about the data"
   ]
  },
  {
   "cell_type": "code",
   "execution_count": 44,
   "id": "6a167087-c2ee-4bcc-a32b-cf484b73b6bb",
   "metadata": {},
   "outputs": [],
   "source": [
    "import pandas as pd"
   ]
  },
  {
   "cell_type": "code",
   "execution_count": 45,
   "id": "10471bc1-570d-4891-885d-9034b88bb1ba",
   "metadata": {},
   "outputs": [
    {
     "data": {
      "text/html": [
       "<div>\n",
       "<style scoped>\n",
       "    .dataframe tbody tr th:only-of-type {\n",
       "        vertical-align: middle;\n",
       "    }\n",
       "\n",
       "    .dataframe tbody tr th {\n",
       "        vertical-align: top;\n",
       "    }\n",
       "\n",
       "    .dataframe thead th {\n",
       "        text-align: right;\n",
       "    }\n",
       "</style>\n",
       "<table border=\"1\" class=\"dataframe\">\n",
       "  <thead>\n",
       "    <tr style=\"text-align: right;\">\n",
       "      <th></th>\n",
       "      <th>0</th>\n",
       "      <th>1</th>\n",
       "      <th>2</th>\n",
       "      <th>3</th>\n",
       "      <th>4</th>\n",
       "      <th>5</th>\n",
       "      <th>6</th>\n",
       "    </tr>\n",
       "  </thead>\n",
       "  <tbody>\n",
       "    <tr>\n",
       "      <th>0</th>\n",
       "      <td>vhigh</td>\n",
       "      <td>vhigh</td>\n",
       "      <td>2</td>\n",
       "      <td>2</td>\n",
       "      <td>small</td>\n",
       "      <td>low</td>\n",
       "      <td>unacc</td>\n",
       "    </tr>\n",
       "    <tr>\n",
       "      <th>1</th>\n",
       "      <td>vhigh</td>\n",
       "      <td>vhigh</td>\n",
       "      <td>2</td>\n",
       "      <td>2</td>\n",
       "      <td>small</td>\n",
       "      <td>med</td>\n",
       "      <td>unacc</td>\n",
       "    </tr>\n",
       "    <tr>\n",
       "      <th>2</th>\n",
       "      <td>vhigh</td>\n",
       "      <td>vhigh</td>\n",
       "      <td>2</td>\n",
       "      <td>2</td>\n",
       "      <td>small</td>\n",
       "      <td>high</td>\n",
       "      <td>unacc</td>\n",
       "    </tr>\n",
       "    <tr>\n",
       "      <th>3</th>\n",
       "      <td>vhigh</td>\n",
       "      <td>vhigh</td>\n",
       "      <td>2</td>\n",
       "      <td>2</td>\n",
       "      <td>med</td>\n",
       "      <td>low</td>\n",
       "      <td>unacc</td>\n",
       "    </tr>\n",
       "    <tr>\n",
       "      <th>4</th>\n",
       "      <td>vhigh</td>\n",
       "      <td>vhigh</td>\n",
       "      <td>2</td>\n",
       "      <td>2</td>\n",
       "      <td>med</td>\n",
       "      <td>med</td>\n",
       "      <td>unacc</td>\n",
       "    </tr>\n",
       "    <tr>\n",
       "      <th>...</th>\n",
       "      <td>...</td>\n",
       "      <td>...</td>\n",
       "      <td>...</td>\n",
       "      <td>...</td>\n",
       "      <td>...</td>\n",
       "      <td>...</td>\n",
       "      <td>...</td>\n",
       "    </tr>\n",
       "    <tr>\n",
       "      <th>1723</th>\n",
       "      <td>low</td>\n",
       "      <td>low</td>\n",
       "      <td>5more</td>\n",
       "      <td>more</td>\n",
       "      <td>med</td>\n",
       "      <td>med</td>\n",
       "      <td>good</td>\n",
       "    </tr>\n",
       "    <tr>\n",
       "      <th>1724</th>\n",
       "      <td>low</td>\n",
       "      <td>low</td>\n",
       "      <td>5more</td>\n",
       "      <td>more</td>\n",
       "      <td>med</td>\n",
       "      <td>high</td>\n",
       "      <td>vgood</td>\n",
       "    </tr>\n",
       "    <tr>\n",
       "      <th>1725</th>\n",
       "      <td>low</td>\n",
       "      <td>low</td>\n",
       "      <td>5more</td>\n",
       "      <td>more</td>\n",
       "      <td>big</td>\n",
       "      <td>low</td>\n",
       "      <td>unacc</td>\n",
       "    </tr>\n",
       "    <tr>\n",
       "      <th>1726</th>\n",
       "      <td>low</td>\n",
       "      <td>low</td>\n",
       "      <td>5more</td>\n",
       "      <td>more</td>\n",
       "      <td>big</td>\n",
       "      <td>med</td>\n",
       "      <td>good</td>\n",
       "    </tr>\n",
       "    <tr>\n",
       "      <th>1727</th>\n",
       "      <td>low</td>\n",
       "      <td>low</td>\n",
       "      <td>5more</td>\n",
       "      <td>more</td>\n",
       "      <td>big</td>\n",
       "      <td>high</td>\n",
       "      <td>vgood</td>\n",
       "    </tr>\n",
       "  </tbody>\n",
       "</table>\n",
       "<p>1728 rows × 7 columns</p>\n",
       "</div>"
      ],
      "text/plain": [
       "          0      1      2     3      4     5      6\n",
       "0     vhigh  vhigh      2     2  small   low  unacc\n",
       "1     vhigh  vhigh      2     2  small   med  unacc\n",
       "2     vhigh  vhigh      2     2  small  high  unacc\n",
       "3     vhigh  vhigh      2     2    med   low  unacc\n",
       "4     vhigh  vhigh      2     2    med   med  unacc\n",
       "...     ...    ...    ...   ...    ...   ...    ...\n",
       "1723    low    low  5more  more    med   med   good\n",
       "1724    low    low  5more  more    med  high  vgood\n",
       "1725    low    low  5more  more    big   low  unacc\n",
       "1726    low    low  5more  more    big   med   good\n",
       "1727    low    low  5more  more    big  high  vgood\n",
       "\n",
       "[1728 rows x 7 columns]"
      ]
     },
     "execution_count": 45,
     "metadata": {},
     "output_type": "execute_result"
    }
   ],
   "source": [
    "df = pd.read_csv('D:\\\\UOC\\\\3rd year\\\\2nd semester\\\\ST\\\\ST 3011\\\\group project\\\\car dataset\\\\car.data',header=None)\n",
    "df"
   ]
  },
  {
   "cell_type": "code",
   "execution_count": 46,
   "id": "d1e7bcd2-8629-486e-bb1c-45aa38988ac6",
   "metadata": {},
   "outputs": [
    {
     "name": "stdout",
     "output_type": "stream",
     "text": [
      "<class 'pandas.core.frame.DataFrame'>\n",
      "RangeIndex: 1728 entries, 0 to 1727\n",
      "Data columns (total 7 columns):\n",
      " #   Column  Non-Null Count  Dtype \n",
      "---  ------  --------------  ----- \n",
      " 0   0       1728 non-null   object\n",
      " 1   1       1728 non-null   object\n",
      " 2   2       1728 non-null   object\n",
      " 3   3       1728 non-null   object\n",
      " 4   4       1728 non-null   object\n",
      " 5   5       1728 non-null   object\n",
      " 6   6       1728 non-null   object\n",
      "dtypes: object(7)\n",
      "memory usage: 94.6+ KB\n"
     ]
    }
   ],
   "source": [
    "df.info()"
   ]
  },
  {
   "cell_type": "code",
   "execution_count": 47,
   "id": "eef49a29-89ed-4819-8120-93c8726cf5cf",
   "metadata": {},
   "outputs": [],
   "source": [
    "df.columns = ['buying','maint','doors','persons','lug_boot','safety','class']"
   ]
  },
  {
   "cell_type": "code",
   "execution_count": 48,
   "id": "5348c825-7fe2-43da-912a-2043557a5a57",
   "metadata": {},
   "outputs": [
    {
     "data": {
      "text/html": [
       "<div>\n",
       "<style scoped>\n",
       "    .dataframe tbody tr th:only-of-type {\n",
       "        vertical-align: middle;\n",
       "    }\n",
       "\n",
       "    .dataframe tbody tr th {\n",
       "        vertical-align: top;\n",
       "    }\n",
       "\n",
       "    .dataframe thead th {\n",
       "        text-align: right;\n",
       "    }\n",
       "</style>\n",
       "<table border=\"1\" class=\"dataframe\">\n",
       "  <thead>\n",
       "    <tr style=\"text-align: right;\">\n",
       "      <th></th>\n",
       "      <th>buying</th>\n",
       "      <th>maint</th>\n",
       "      <th>doors</th>\n",
       "      <th>persons</th>\n",
       "      <th>lug_boot</th>\n",
       "      <th>safety</th>\n",
       "      <th>class</th>\n",
       "    </tr>\n",
       "  </thead>\n",
       "  <tbody>\n",
       "    <tr>\n",
       "      <th>0</th>\n",
       "      <td>vhigh</td>\n",
       "      <td>vhigh</td>\n",
       "      <td>2</td>\n",
       "      <td>2</td>\n",
       "      <td>small</td>\n",
       "      <td>low</td>\n",
       "      <td>unacc</td>\n",
       "    </tr>\n",
       "    <tr>\n",
       "      <th>1</th>\n",
       "      <td>vhigh</td>\n",
       "      <td>vhigh</td>\n",
       "      <td>2</td>\n",
       "      <td>2</td>\n",
       "      <td>small</td>\n",
       "      <td>med</td>\n",
       "      <td>unacc</td>\n",
       "    </tr>\n",
       "    <tr>\n",
       "      <th>2</th>\n",
       "      <td>vhigh</td>\n",
       "      <td>vhigh</td>\n",
       "      <td>2</td>\n",
       "      <td>2</td>\n",
       "      <td>small</td>\n",
       "      <td>high</td>\n",
       "      <td>unacc</td>\n",
       "    </tr>\n",
       "    <tr>\n",
       "      <th>3</th>\n",
       "      <td>vhigh</td>\n",
       "      <td>vhigh</td>\n",
       "      <td>2</td>\n",
       "      <td>2</td>\n",
       "      <td>med</td>\n",
       "      <td>low</td>\n",
       "      <td>unacc</td>\n",
       "    </tr>\n",
       "    <tr>\n",
       "      <th>4</th>\n",
       "      <td>vhigh</td>\n",
       "      <td>vhigh</td>\n",
       "      <td>2</td>\n",
       "      <td>2</td>\n",
       "      <td>med</td>\n",
       "      <td>med</td>\n",
       "      <td>unacc</td>\n",
       "    </tr>\n",
       "    <tr>\n",
       "      <th>...</th>\n",
       "      <td>...</td>\n",
       "      <td>...</td>\n",
       "      <td>...</td>\n",
       "      <td>...</td>\n",
       "      <td>...</td>\n",
       "      <td>...</td>\n",
       "      <td>...</td>\n",
       "    </tr>\n",
       "    <tr>\n",
       "      <th>1723</th>\n",
       "      <td>low</td>\n",
       "      <td>low</td>\n",
       "      <td>5more</td>\n",
       "      <td>more</td>\n",
       "      <td>med</td>\n",
       "      <td>med</td>\n",
       "      <td>good</td>\n",
       "    </tr>\n",
       "    <tr>\n",
       "      <th>1724</th>\n",
       "      <td>low</td>\n",
       "      <td>low</td>\n",
       "      <td>5more</td>\n",
       "      <td>more</td>\n",
       "      <td>med</td>\n",
       "      <td>high</td>\n",
       "      <td>vgood</td>\n",
       "    </tr>\n",
       "    <tr>\n",
       "      <th>1725</th>\n",
       "      <td>low</td>\n",
       "      <td>low</td>\n",
       "      <td>5more</td>\n",
       "      <td>more</td>\n",
       "      <td>big</td>\n",
       "      <td>low</td>\n",
       "      <td>unacc</td>\n",
       "    </tr>\n",
       "    <tr>\n",
       "      <th>1726</th>\n",
       "      <td>low</td>\n",
       "      <td>low</td>\n",
       "      <td>5more</td>\n",
       "      <td>more</td>\n",
       "      <td>big</td>\n",
       "      <td>med</td>\n",
       "      <td>good</td>\n",
       "    </tr>\n",
       "    <tr>\n",
       "      <th>1727</th>\n",
       "      <td>low</td>\n",
       "      <td>low</td>\n",
       "      <td>5more</td>\n",
       "      <td>more</td>\n",
       "      <td>big</td>\n",
       "      <td>high</td>\n",
       "      <td>vgood</td>\n",
       "    </tr>\n",
       "  </tbody>\n",
       "</table>\n",
       "<p>1728 rows × 7 columns</p>\n",
       "</div>"
      ],
      "text/plain": [
       "     buying  maint  doors persons lug_boot safety  class\n",
       "0     vhigh  vhigh      2       2    small    low  unacc\n",
       "1     vhigh  vhigh      2       2    small    med  unacc\n",
       "2     vhigh  vhigh      2       2    small   high  unacc\n",
       "3     vhigh  vhigh      2       2      med    low  unacc\n",
       "4     vhigh  vhigh      2       2      med    med  unacc\n",
       "...     ...    ...    ...     ...      ...    ...    ...\n",
       "1723    low    low  5more    more      med    med   good\n",
       "1724    low    low  5more    more      med   high  vgood\n",
       "1725    low    low  5more    more      big    low  unacc\n",
       "1726    low    low  5more    more      big    med   good\n",
       "1727    low    low  5more    more      big   high  vgood\n",
       "\n",
       "[1728 rows x 7 columns]"
      ]
     },
     "execution_count": 48,
     "metadata": {},
     "output_type": "execute_result"
    }
   ],
   "source": [
    "df"
   ]
  },
  {
   "cell_type": "code",
   "execution_count": 49,
   "id": "de43ce76-4f05-4ab1-b4f6-e04726e2f16c",
   "metadata": {},
   "outputs": [
    {
     "data": {
      "text/plain": [
       "buying      4\n",
       "maint       4\n",
       "doors       4\n",
       "persons     3\n",
       "lug_boot    3\n",
       "safety      3\n",
       "class       4\n",
       "dtype: int64"
      ]
     },
     "execution_count": 49,
     "metadata": {},
     "output_type": "execute_result"
    }
   ],
   "source": [
    "df.nunique()"
   ]
  },
  {
   "cell_type": "code",
   "execution_count": 50,
   "id": "4e62d8a3-f413-4b9d-a466-c2d3907a826a",
   "metadata": {},
   "outputs": [
    {
     "data": {
      "text/plain": [
       "buying      0\n",
       "maint       0\n",
       "doors       0\n",
       "persons     0\n",
       "lug_boot    0\n",
       "safety      0\n",
       "class       0\n",
       "dtype: int64"
      ]
     },
     "execution_count": 50,
     "metadata": {},
     "output_type": "execute_result"
    }
   ],
   "source": [
    "df.isna().sum()"
   ]
  },
  {
   "cell_type": "code",
   "execution_count": 51,
   "id": "77420662-c010-434c-87bd-7494e28662c9",
   "metadata": {},
   "outputs": [],
   "source": [
    "#no missing values"
   ]
  },
  {
   "cell_type": "code",
   "execution_count": 52,
   "id": "703832e2-a799-4376-ac17-49b144f4fe6d",
   "metadata": {},
   "outputs": [
    {
     "data": {
      "text/html": [
       "<div>\n",
       "<style scoped>\n",
       "    .dataframe tbody tr th:only-of-type {\n",
       "        vertical-align: middle;\n",
       "    }\n",
       "\n",
       "    .dataframe tbody tr th {\n",
       "        vertical-align: top;\n",
       "    }\n",
       "\n",
       "    .dataframe thead th {\n",
       "        text-align: right;\n",
       "    }\n",
       "</style>\n",
       "<table border=\"1\" class=\"dataframe\">\n",
       "  <thead>\n",
       "    <tr style=\"text-align: right;\">\n",
       "      <th></th>\n",
       "      <th>buying</th>\n",
       "      <th>maint</th>\n",
       "      <th>doors</th>\n",
       "      <th>persons</th>\n",
       "      <th>lug_boot</th>\n",
       "      <th>safety</th>\n",
       "      <th>class</th>\n",
       "    </tr>\n",
       "  </thead>\n",
       "  <tbody>\n",
       "  </tbody>\n",
       "</table>\n",
       "</div>"
      ],
      "text/plain": [
       "Empty DataFrame\n",
       "Columns: [buying, maint, doors, persons, lug_boot, safety, class]\n",
       "Index: []"
      ]
     },
     "execution_count": 52,
     "metadata": {},
     "output_type": "execute_result"
    }
   ],
   "source": [
    "df[df.duplicated()]"
   ]
  },
  {
   "cell_type": "code",
   "execution_count": 53,
   "id": "e8de2fc8-892d-4cc1-b82c-93fdf2d023f5",
   "metadata": {},
   "outputs": [],
   "source": [
    "#no duplicated rows"
   ]
  },
  {
   "cell_type": "markdown",
   "id": "3adcd583-1c64-4165-8328-8d83d07912ff",
   "metadata": {},
   "source": [
    "## EDA"
   ]
  },
  {
   "cell_type": "code",
   "execution_count": 55,
   "id": "ad68fe3e-2cd6-4536-a061-acbfd8e4de92",
   "metadata": {},
   "outputs": [],
   "source": [
    "import matplotlib.pyplot as plt\n",
    "import seaborn as sns\n",
    "plt.style.use('fivethirtyeight')"
   ]
  },
  {
   "cell_type": "code",
   "execution_count": 56,
   "id": "630e073c-036d-42c4-8224-7789e43b2a4d",
   "metadata": {},
   "outputs": [],
   "source": [
    "sns.set_theme()"
   ]
  },
  {
   "cell_type": "code",
   "execution_count": 57,
   "id": "02e6b62d-b398-4861-ad61-26b305fb989e",
   "metadata": {},
   "outputs": [
    {
     "data": {
      "image/png": "[encoded data removed]",
      "text/plain": [
       "<Figure size 1200x700 with 6 Axes>"
      ]
     },
     "metadata": {},
     "output_type": "display_data"
    }
   ],
   "source": [
    "fig, axes = plt.subplots(nrows=2,ncols=3,figsize=(12,7))\n",
    "sns.countplot(x='buying',data=df,ax=axes[0,0])\n",
    "axes[0,0].set_title('Buying Price',fontsize=15)\n",
    "\n",
    "sns.countplot(x='maint',data=df,ax=axes[0,1])\n",
    "axes[0,1].set_title('Maintaince Price',fontsize=15)\n",
    "\n",
    "sns.countplot(x='doors',data=df,ax=axes[0,2])\n",
    "axes[0,2].set_title('No.of doors',fontsize=15)\n",
    "\n",
    "sns.countplot(x='persons',data=df,ax=axes[1,0])\n",
    "axes[1,0].set_title('Persons to carry',fontsize=15)\n",
    "\n",
    "sns.countplot(x='lug_boot',data=df,ax=axes[1,1])\n",
    "axes[1,1].set_title('Luggage boot size',fontsize=15)\n",
    "\n",
    "sns.countplot(x='safety',data=df,ax=axes[1,2])\n",
    "axes[1,2].set_title('Safty of the car',fontsize=15)\n",
    "\n",
    "plt.tight_layout()\n",
    "plt.show()"
   ]
  },
  {
   "cell_type": "code",
   "execution_count": 58,
   "id": "42dec00c-6ef3-4d32-b001-d3f8e35e4bed",
   "metadata": {},
   "outputs": [
    {
     "data": {
      "image/png": "[encoded data removed]",
      "text/plain": [
       "<Figure size 640x480 with 1 Axes>"
      ]
     },
     "metadata": {},
     "output_type": "display_data"
    }
   ],
   "source": [
    "sns.countplot(x='class',data=df)\n",
    "plt.title('Car class')\n",
    "plt.show()"
   ]
  },
  {
   "cell_type": "code",
   "execution_count": 59,
   "id": "5e922ce7-5641-4acc-9f81-0363706bfbce",
   "metadata": {},
   "outputs": [
    {
     "data": {
      "text/html": [
       "<div>\n",
       "<style scoped>\n",
       "    .dataframe tbody tr th:only-of-type {\n",
       "        vertical-align: middle;\n",
       "    }\n",
       "\n",
       "    .dataframe tbody tr th {\n",
       "        vertical-align: top;\n",
       "    }\n",
       "\n",
       "    .dataframe thead th {\n",
       "        text-align: right;\n",
       "    }\n",
       "</style>\n",
       "<table border=\"1\" class=\"dataframe\">\n",
       "  <thead>\n",
       "    <tr style=\"text-align: right;\">\n",
       "      <th>buying</th>\n",
       "      <th>high</th>\n",
       "      <th>low</th>\n",
       "      <th>med</th>\n",
       "      <th>vhigh</th>\n",
       "    </tr>\n",
       "    <tr>\n",
       "      <th>class</th>\n",
       "      <th></th>\n",
       "      <th></th>\n",
       "      <th></th>\n",
       "      <th></th>\n",
       "    </tr>\n",
       "  </thead>\n",
       "  <tbody>\n",
       "    <tr>\n",
       "      <th>acc</th>\n",
       "      <td>0.281250</td>\n",
       "      <td>0.231771</td>\n",
       "      <td>0.299479</td>\n",
       "      <td>0.187500</td>\n",
       "    </tr>\n",
       "    <tr>\n",
       "      <th>good</th>\n",
       "      <td>0.000000</td>\n",
       "      <td>0.666667</td>\n",
       "      <td>0.333333</td>\n",
       "      <td>0.000000</td>\n",
       "    </tr>\n",
       "    <tr>\n",
       "      <th>unacc</th>\n",
       "      <td>0.267769</td>\n",
       "      <td>0.213223</td>\n",
       "      <td>0.221488</td>\n",
       "      <td>0.297521</td>\n",
       "    </tr>\n",
       "    <tr>\n",
       "      <th>vgood</th>\n",
       "      <td>0.000000</td>\n",
       "      <td>0.600000</td>\n",
       "      <td>0.400000</td>\n",
       "      <td>0.000000</td>\n",
       "    </tr>\n",
       "  </tbody>\n",
       "</table>\n",
       "</div>"
      ],
      "text/plain": [
       "buying      high       low       med     vhigh\n",
       "class                                         \n",
       "acc     0.281250  0.231771  0.299479  0.187500\n",
       "good    0.000000  0.666667  0.333333  0.000000\n",
       "unacc   0.267769  0.213223  0.221488  0.297521\n",
       "vgood   0.000000  0.600000  0.400000  0.000000"
      ]
     },
     "execution_count": 59,
     "metadata": {},
     "output_type": "execute_result"
    }
   ],
   "source": [
    "pd.crosstab(df['class'],df['buying'],normalize='index')"
   ]
  },
  {
   "cell_type": "code",
   "execution_count": 60,
   "id": "53b06b33-e3e0-4643-b7a5-0f139eb2b459",
   "metadata": {},
   "outputs": [
    {
     "data": {
      "image/png": "[encoded data removed]",
      "text/plain": [
       "<Figure size 640x480 with 1 Axes>"
      ]
     },
     "metadata": {},
     "output_type": "display_data"
    }
   ],
   "source": [
    "(pd.crosstab(df['class'],df['buying'],normalize='index')*100).plot(kind='bar',ylabel='percentage',title='Car buying price category by class')\n",
    "plt.xticks(rotation=360)\n",
    "plt.legend(fontsize='small',title='buying category',title_fontsize='small')\n",
    "plt.show()"
   ]
  },
  {
   "cell_type": "code",
   "execution_count": 61,
   "id": "c30a8ac2-7299-4bc5-b50c-08efe8363943",
   "metadata": {},
   "outputs": [
    {
     "data": {
      "image/png": "[encoded data removed]",
      "text/plain": [
       "<Figure size 640x480 with 1 Axes>"
      ]
     },
     "metadata": {},
     "output_type": "display_data"
    }
   ],
   "source": [
    "(pd.crosstab(df['class'],df['safety'],normalize='index')*100).plot(kind='bar',ylabel='percentage',title='Safety category by class')\n",
    "plt.xticks(rotation=360)\n",
    "plt.legend(fontsize='small',title='safety category',title_fontsize='small')\n",
    "plt.show()"
   ]
  },
  {
   "cell_type": "code",
   "execution_count": 62,
   "id": "d915b834-3058-491e-9478-9b189c0353e8",
   "metadata": {},
   "outputs": [
    {
     "data": {
      "image/png": "[encoded data removed]",
      "text/plain": [
       "<Figure size 640x480 with 1 Axes>"
      ]
     },
     "metadata": {},
     "output_type": "display_data"
    }
   ],
   "source": [
    "(pd.crosstab(df['class'],df['doors'],normalize='index')*100).plot(kind='bar',ylabel='percentage',title='Doors by class')\n",
    "plt.xticks(rotation=360)\n",
    "plt.legend(fontsize='small',title='doors category',title_fontsize='small',bbox_to_anchor=(1.25,1))\n",
    "plt.show()"
   ]
  },
  {
   "cell_type": "code",
   "execution_count": 63,
   "id": "42fdf688-a23a-4d25-8ec4-4c475401f00e",
   "metadata": {},
   "outputs": [
    {
     "data": {
      "image/png": "[encoded data removed]",
      "text/plain": [
       "<Figure size 640x480 with 1 Axes>"
      ]
     },
     "metadata": {},
     "output_type": "display_data"
    }
   ],
   "source": [
    "(pd.crosstab(df['class'],df['persons'],normalize='index')*100).plot(kind='bar',ylabel='percentage',title='Persons to carry by class')\n",
    "plt.xticks(rotation=360)\n",
    "plt.legend(fontsize='small',title='persons to carry',title_fontsize='small',bbox_to_anchor=(1.25,1))\n",
    "plt.show()"
   ]
  },
  {
   "cell_type": "code",
   "execution_count": 64,
   "id": "4eccadff-6fc5-4d71-9a7c-e19a2305ba22",
   "metadata": {},
   "outputs": [
    {
     "data": {
      "image/png": "[encoded data removed]",
      "text/plain": [
       "<Figure size 640x480 with 1 Axes>"
      ]
     },
     "metadata": {},
     "output_type": "display_data"
    }
   ],
   "source": [
    "(pd.crosstab(df['class'],df['maint'],normalize='index')*100).plot(kind='bar',ylabel='percentage',title='Maintainance cost by class')\n",
    "plt.xticks(rotation=360)\n",
    "plt.legend(fontsize='small',title='Maintainance cost',title_fontsize='small',bbox_to_anchor=(1.25,1))\n",
    "plt.savefig('maint',bbox_inches='tight')"
   ]
  },
  {
   "cell_type": "code",
   "execution_count": 65,
   "id": "b54b1e7c-356d-459c-b6d0-3bfc1337e49d",
   "metadata": {},
   "outputs": [
    {
     "data": {
      "image/png": "[encoded data removed]",
      "text/plain": [
       "<Figure size 640x480 with 1 Axes>"
      ]
     },
     "metadata": {},
     "output_type": "display_data"
    }
   ],
   "source": [
    "(pd.crosstab(df['class'],df['lug_boot'],normalize='index')*100).plot(kind='bar',ylabel='percentage',title='Luggage boot size by class')\n",
    "plt.xticks(rotation=360)\n",
    "plt.legend(fontsize='small',title='luggage boot size',title_fontsize='small',bbox_to_anchor=(1.25,1))\n",
    "plt.show()"
   ]
  },
  {
   "cell_type": "markdown",
   "id": "77126549-9f7c-4865-a6d3-410230974ac3",
   "metadata": {},
   "source": [
    "## Model fitting"
   ]
  },
  {
   "cell_type": "code",
   "execution_count": 67,
   "id": "ca56da8b-744c-45c4-a19f-035a886c6dc5",
   "metadata": {},
   "outputs": [],
   "source": [
    "df1 = df.copy()"
   ]
  },
  {
   "cell_type": "code",
   "execution_count": 68,
   "id": "ec0c23c7-89a2-46d2-b0f8-a7e2acabc0c3",
   "metadata": {},
   "outputs": [
    {
     "name": "stdout",
     "output_type": "stream",
     "text": [
      "buying\n",
      "['vhigh' 'high' 'med' 'low']\n",
      "maint\n",
      "['vhigh' 'high' 'med' 'low']\n",
      "doors\n",
      "['2' '3' '4' '5more']\n",
      "persons\n",
      "['2' '4' 'more']\n",
      "lug_boot\n",
      "['small' 'med' 'big']\n",
      "safety\n",
      "['low' 'med' 'high']\n",
      "class\n",
      "['unacc' 'acc' 'vgood' 'good']\n"
     ]
    }
   ],
   "source": [
    "for i in df.columns:\n",
    "    print(i)\n",
    "    print(df[i].unique())"
   ]
  },
  {
   "cell_type": "code",
   "execution_count": 69,
   "id": "00c75982-70ae-4033-b57b-39b8b7693bca",
   "metadata": {},
   "outputs": [],
   "source": [
    "#encode categorical variables"
   ]
  },
  {
   "cell_type": "code",
   "execution_count": 70,
   "id": "894df394-db24-42dd-9f9c-4e29a6030472",
   "metadata": {},
   "outputs": [],
   "source": [
    "import category_encoders as ce"
   ]
  },
  {
   "cell_type": "code",
   "execution_count": 71,
   "id": "c61e9e57-d10f-455e-965e-18469062d711",
   "metadata": {},
   "outputs": [],
   "source": [
    "encode = ce.OrdinalEncoder(cols=['buying', 'maint', 'doors', 'persons', 'lug_boot', 'safety','class'],mapping=[\n",
    "    {'col':'buying','mapping':{'vhigh':1,'high':2,'med':3,'low':4}},\n",
    "    {'col':'maint','mapping':{'vhigh':1,'high':2,'med':3,'low':4}},\n",
    "    {'col':'doors','mapping':{'2':1,'3':2,'4':3,'5more':4}},\n",
    "    {'col':'persons','mapping':{'2':1,'4':2,'more':3}},\n",
    "    {'col':'lug_boot','mapping':{'small':1,'med':2,'big':3}},\n",
    "    {'col':'safety','mapping':{'low':1,'med':2,'high':3}},\n",
    "    {'col':'class','mapping':{'unacc':0,'acc':1,'good':2,'vgood':3}}\n",
    "])"
   ]
  },
  {
   "cell_type": "code",
   "execution_count": 72,
   "id": "e495dba4-0adf-4081-b197-ecfb602aa192",
   "metadata": {},
   "outputs": [],
   "source": [
    "df1 = encode.fit_transform(df1)"
   ]
  },
  {
   "cell_type": "code",
   "execution_count": 73,
   "id": "83ee772d-b79d-4be0-9031-eedc692d1779",
   "metadata": {},
   "outputs": [
    {
     "data": {
      "text/html": [
       "<div>\n",
       "<style scoped>\n",
       "    .dataframe tbody tr th:only-of-type {\n",
       "        vertical-align: middle;\n",
       "    }\n",
       "\n",
       "    .dataframe tbody tr th {\n",
       "        vertical-align: top;\n",
       "    }\n",
       "\n",
       "    .dataframe thead th {\n",
       "        text-align: right;\n",
       "    }\n",
       "</style>\n",
       "<table border=\"1\" class=\"dataframe\">\n",
       "  <thead>\n",
       "    <tr style=\"text-align: right;\">\n",
       "      <th></th>\n",
       "      <th>buying</th>\n",
       "      <th>maint</th>\n",
       "      <th>doors</th>\n",
       "      <th>persons</th>\n",
       "      <th>lug_boot</th>\n",
       "      <th>safety</th>\n",
       "      <th>class</th>\n",
       "    </tr>\n",
       "  </thead>\n",
       "  <tbody>\n",
       "    <tr>\n",
       "      <th>0</th>\n",
       "      <td>1</td>\n",
       "      <td>1</td>\n",
       "      <td>1</td>\n",
       "      <td>1</td>\n",
       "      <td>1</td>\n",
       "      <td>1</td>\n",
       "      <td>0</td>\n",
       "    </tr>\n",
       "    <tr>\n",
       "      <th>1</th>\n",
       "      <td>1</td>\n",
       "      <td>1</td>\n",
       "      <td>1</td>\n",
       "      <td>1</td>\n",
       "      <td>1</td>\n",
       "      <td>2</td>\n",
       "      <td>0</td>\n",
       "    </tr>\n",
       "    <tr>\n",
       "      <th>2</th>\n",
       "      <td>1</td>\n",
       "      <td>1</td>\n",
       "      <td>1</td>\n",
       "      <td>1</td>\n",
       "      <td>1</td>\n",
       "      <td>3</td>\n",
       "      <td>0</td>\n",
       "    </tr>\n",
       "    <tr>\n",
       "      <th>3</th>\n",
       "      <td>1</td>\n",
       "      <td>1</td>\n",
       "      <td>1</td>\n",
       "      <td>1</td>\n",
       "      <td>2</td>\n",
       "      <td>1</td>\n",
       "      <td>0</td>\n",
       "    </tr>\n",
       "    <tr>\n",
       "      <th>4</th>\n",
       "      <td>1</td>\n",
       "      <td>1</td>\n",
       "      <td>1</td>\n",
       "      <td>1</td>\n",
       "      <td>2</td>\n",
       "      <td>2</td>\n",
       "      <td>0</td>\n",
       "    </tr>\n",
       "  </tbody>\n",
       "</table>\n",
       "</div>"
      ],
      "text/plain": [
       "   buying  maint  doors  persons  lug_boot  safety  class\n",
       "0       1      1      1        1         1       1      0\n",
       "1       1      1      1        1         1       2      0\n",
       "2       1      1      1        1         1       3      0\n",
       "3       1      1      1        1         2       1      0\n",
       "4       1      1      1        1         2       2      0"
      ]
     },
     "execution_count": 73,
     "metadata": {},
     "output_type": "execute_result"
    }
   ],
   "source": [
    "df1.head()"
   ]
  },
  {
   "cell_type": "code",
   "execution_count": 74,
   "id": "93ec3878-ba63-4342-ac99-4436c7a26fc4",
   "metadata": {},
   "outputs": [],
   "source": [
    "x = df1.drop('class',axis='columns')\n",
    "y = df1['class']"
   ]
  },
  {
   "cell_type": "code",
   "execution_count": 75,
   "id": "4aa1f67c-cf75-425b-b861-8796e3a76648",
   "metadata": {},
   "outputs": [],
   "source": [
    "#use of StratifiedShuffleSplit to create train set and test set"
   ]
  },
  {
   "cell_type": "code",
   "execution_count": 76,
   "id": "5aed0304-b35a-4f1f-b428-d0a081a58db9",
   "metadata": {},
   "outputs": [],
   "source": [
    "from sklearn.model_selection import StratifiedShuffleSplit"
   ]
  },
  {
   "cell_type": "code",
   "execution_count": 77,
   "id": "09ae4d42-5486-400d-82fb-81b0de142332",
   "metadata": {},
   "outputs": [],
   "source": [
    "split = StratifiedShuffleSplit(n_splits=1,test_size=0.2,random_state=42)"
   ]
  },
  {
   "cell_type": "code",
   "execution_count": 78,
   "id": "a392a5ca-ca66-488d-85a1-f6fc5d20464b",
   "metadata": {},
   "outputs": [],
   "source": [
    "for train_indices, test_indices in split.split(df1,df1['class']):\n",
    "    train_set = df1.loc[train_indices]\n",
    "    test_set = df1.loc[test_indices]"
   ]
  },
  {
   "cell_type": "code",
   "execution_count": 79,
   "id": "235a9557-8267-4d8f-8da1-68781ab9da2e",
   "metadata": {},
   "outputs": [],
   "source": [
    "#check if the proportions of categories in the train set and test set are same"
   ]
  },
  {
   "cell_type": "code",
   "execution_count": 80,
   "id": "7d3fda54-c345-4beb-bdea-a3f6ea4615a8",
   "metadata": {},
   "outputs": [
    {
     "data": {
      "text/plain": [
       "class\n",
       "0    0.700434\n",
       "1    0.222142\n",
       "2    0.039797\n",
       "3    0.037627\n",
       "Name: count, dtype: float64"
      ]
     },
     "execution_count": 80,
     "metadata": {},
     "output_type": "execute_result"
    }
   ],
   "source": [
    "train_set['class'].value_counts() / len(train_set)"
   ]
  },
  {
   "cell_type": "code",
   "execution_count": 81,
   "id": "39454ac1-f48c-41f2-8378-021be435f895",
   "metadata": {},
   "outputs": [
    {
     "data": {
      "text/plain": [
       "class\n",
       "0    0.699422\n",
       "1    0.222543\n",
       "2    0.040462\n",
       "3    0.037572\n",
       "Name: count, dtype: float64"
      ]
     },
     "execution_count": 81,
     "metadata": {},
     "output_type": "execute_result"
    }
   ],
   "source": [
    "test_set['class'].value_counts() / len(test_set)"
   ]
  },
  {
   "cell_type": "code",
   "execution_count": 82,
   "id": "a626e066-aceb-4707-941c-89df0688bf23",
   "metadata": {},
   "outputs": [],
   "source": [
    "x_train = train_set.drop('class',axis='columns')\n",
    "y_train = train_set['class']\n",
    "\n",
    "x_test = test_set.drop('class',axis='columns')\n",
    "y_test = test_set['class']"
   ]
  },
  {
   "cell_type": "code",
   "execution_count": 134,
   "id": "cbbb1c70-fe41-47f3-84f4-251d3363943c",
   "metadata": {},
   "outputs": [],
   "source": [
    "#fit the logistic regression model"
   ]
  },
  {
   "cell_type": "code",
   "execution_count": 83,
   "id": "a25d5ee2-67ae-46f7-a02c-050a859be875",
   "metadata": {},
   "outputs": [],
   "source": [
    "from sklearn.linear_model import LogisticRegression"
   ]
  },
  {
   "cell_type": "code",
   "execution_count": 84,
   "id": "e12844d1-836a-4370-8414-6102479dd6fa",
   "metadata": {},
   "outputs": [
    {
     "data": {
      "text/html": [
       "<style>#sk-container-id-1 {color: black;background-color: white;}#sk-container-id-1 pre{padding: 0;}#sk-container-id-1 div.sk-toggleable {background-color: white;}#sk-container-id-1 label.sk-toggleable__label {cursor: pointer;display: block;width: 100%;margin-bottom: 0;padding: 0.3em;box-sizing: border-box;text-align: center;}#sk-container-id-1 label.sk-toggleable__label-arrow:before {content: \"▸\";float: left;margin-right: 0.25em;color: #696969;}#sk-container-id-1 label.sk-toggleable__label-arrow:hover:before {color: black;}#sk-container-id-1 div.sk-estimator:hover label.sk-toggleable__label-arrow:before {color: black;}#sk-container-id-1 div.sk-toggleable__content {max-height: 0;max-width: 0;overflow: hidden;text-align: left;background-color: #f0f8ff;}#sk-container-id-1 div.sk-toggleable__content pre {margin: 0.2em;color: black;border-radius: 0.25em;background-color: #f0f8ff;}#sk-container-id-1 input.sk-toggleable__control:checked~div.sk-toggleable__content {max-height: 200px;max-width: 100%;overflow: auto;}#sk-container-id-1 input.sk-toggleable__control:checked~label.sk-toggleable__label-arrow:before {content: \"▾\";}#sk-container-id-1 div.sk-estimator input.sk-toggleable__control:checked~label.sk-toggleable__label {background-color: #d4ebff;}#sk-container-id-1 div.sk-label input.sk-toggleable__control:checked~label.sk-toggleable__label {background-color: #d4ebff;}#sk-container-id-1 input.sk-hidden--visually {border: 0;clip: rect(1px 1px 1px 1px);clip: rect(1px, 1px, 1px, 1px);height: 1px;margin: -1px;overflow: hidden;padding: 0;position: absolute;width: 1px;}#sk-container-id-1 div.sk-estimator {font-family: monospace;background-color: #f0f8ff;border: 1px dotted black;border-radius: 0.25em;box-sizing: border-box;margin-bottom: 0.5em;}#sk-container-id-1 div.sk-estimator:hover {background-color: #d4ebff;}#sk-container-id-1 div.sk-parallel-item::after {content: \"\";width: 100%;border-bottom: 1px solid gray;flex-grow: 1;}#sk-container-id-1 div.sk-label:hover label.sk-toggleable__label {background-color: #d4ebff;}#sk-container-id-1 div.sk-serial::before {content: \"\";position: absolute;border-left: 1px solid gray;box-sizing: border-box;top: 0;bottom: 0;left: 50%;z-index: 0;}#sk-container-id-1 div.sk-serial {display: flex;flex-direction: column;align-items: center;background-color: white;padding-right: 0.2em;padding-left: 0.2em;position: relative;}#sk-container-id-1 div.sk-item {position: relative;z-index: 1;}#sk-container-id-1 div.sk-parallel {display: flex;align-items: stretch;justify-content: center;background-color: white;position: relative;}#sk-container-id-1 div.sk-item::before, #sk-container-id-1 div.sk-parallel-item::before {content: \"\";position: absolute;border-left: 1px solid gray;box-sizing: border-box;top: 0;bottom: 0;left: 50%;z-index: -1;}#sk-container-id-1 div.sk-parallel-item {display: flex;flex-direction: column;z-index: 1;position: relative;background-color: white;}#sk-container-id-1 div.sk-parallel-item:first-child::after {align-self: flex-end;width: 50%;}#sk-container-id-1 div.sk-parallel-item:last-child::after {align-self: flex-start;width: 50%;}#sk-container-id-1 div.sk-parallel-item:only-child::after {width: 0;}#sk-container-id-1 div.sk-dashed-wrapped {border: 1px dashed gray;margin: 0 0.4em 0.5em 0.4em;box-sizing: border-box;padding-bottom: 0.4em;background-color: white;}#sk-container-id-1 div.sk-label label {font-family: monospace;font-weight: bold;display: inline-block;line-height: 1.2em;}#sk-container-id-1 div.sk-label-container {text-align: center;}#sk-container-id-1 div.sk-container {/* jupyter's `normalize.less` sets `[hidden] { display: none; }` but bootstrap.min.css set `[hidden] { display: none !important; }` so we also need the `!important` here to be able to override the default hidden behavior on the sphinx rendered scikit-learn.org. See: https://github.com/scikit-learn/scikit-learn/issues/21755 */display: inline-block !important;position: relative;}#sk-container-id-1 div.sk-text-repr-fallback {display: none;}</style><div id=\"sk-container-id-1\" class=\"sk-top-container\"><div class=\"sk-text-repr-fallback\"><pre>LogisticRegression(max_iter=1000)</pre><b>In a Jupyter environment, please rerun this cell to show the HTML representation or trust the notebook. <br />On GitHub, the HTML representation is unable to render, please try loading this page with nbviewer.org.</b></div><div class=\"sk-container\" hidden><div class=\"sk-item\"><div class=\"sk-estimator sk-toggleable\"><input class=\"sk-toggleable__control sk-hidden--visually\" id=\"sk-estimator-id-1\" type=\"checkbox\" checked><label for=\"sk-estimator-id-1\" class=\"sk-toggleable__label sk-toggleable__label-arrow\">LogisticRegression</label><div class=\"sk-toggleable__content\"><pre>LogisticRegression(max_iter=1000)</pre></div></div></div></div></div>"
      ],
      "text/plain": [
       "LogisticRegression(max_iter=1000)"
      ]
     },
     "execution_count": 84,
     "metadata": {},
     "output_type": "execute_result"
    }
   ],
   "source": [
    "model = LogisticRegression(max_iter=1000)\n",
    "model.fit(x_train,y_train)"
   ]
  },
  {
   "cell_type": "code",
   "execution_count": 85,
   "id": "6bd855f2-40f1-43e3-891b-7c676f2076aa",
   "metadata": {},
   "outputs": [
    {
     "data": {
      "text/plain": [
       "0.8005780346820809"
      ]
     },
     "execution_count": 85,
     "metadata": {},
     "output_type": "execute_result"
    }
   ],
   "source": [
    "model.score(x_test,y_test)"
   ]
  },
  {
   "cell_type": "code",
   "execution_count": 136,
   "id": "e2314c8e-3591-451f-9cdd-93015e8c7e97",
   "metadata": {},
   "outputs": [],
   "source": [
    "#use of performance matrices to evaluate the model"
   ]
  },
  {
   "cell_type": "code",
   "execution_count": 86,
   "id": "24d81e88-8854-4754-9b44-a50fe27cff74",
   "metadata": {},
   "outputs": [],
   "source": [
    "from sklearn.metrics import confusion_matrix,classification_report"
   ]
  },
  {
   "cell_type": "code",
   "execution_count": 87,
   "id": "99bcc917-758c-49db-91ae-9c3e9d85c42c",
   "metadata": {},
   "outputs": [],
   "source": [
    "y_predict = model.predict(x_test)"
   ]
  },
  {
   "cell_type": "code",
   "execution_count": 88,
   "id": "925bf079-06fb-4d28-bd16-20fdbfe047f7",
   "metadata": {},
   "outputs": [
    {
     "data": {
      "text/plain": [
       "array([[225,  13,   3,   1],\n",
       "       [ 33,  42,   1,   1],\n",
       "       [  3,   8,   3,   0],\n",
       "       [  0,   6,   0,   7]], dtype=int64)"
      ]
     },
     "execution_count": 88,
     "metadata": {},
     "output_type": "execute_result"
    }
   ],
   "source": [
    "cm = confusion_matrix(y_test,y_predict)\n",
    "cm"
   ]
  },
  {
   "cell_type": "code",
   "execution_count": 59,
   "id": "927ca5cf-cde4-430f-a251-d7ebd03b2aaa",
   "metadata": {},
   "outputs": [
    {
     "name": "stdout",
     "output_type": "stream",
     "text": [
      "              precision    recall  f1-score   support\n",
      "\n",
      "           0       0.86      0.93      0.89       242\n",
      "           1       0.61      0.55      0.58        77\n",
      "           2       0.43      0.21      0.29        14\n",
      "           3       0.78      0.54      0.64        13\n",
      "\n",
      "    accuracy                           0.80       346\n",
      "   macro avg       0.67      0.56      0.60       346\n",
      "weighted avg       0.78      0.80      0.79       346\n",
      "\n"
     ]
    }
   ],
   "source": [
    "print(classification_report(y_test,y_predict))"
   ]
  },
  {
   "cell_type": "code",
   "execution_count": 138,
   "id": "7974fdf9-8cf1-4cf2-86ff-85e70e425598",
   "metadata": {},
   "outputs": [],
   "source": [
    "#perform cross-validation"
   ]
  },
  {
   "cell_type": "code",
   "execution_count": 60,
   "id": "80abe215-1ce0-46d9-ae55-c970a3473a33",
   "metadata": {},
   "outputs": [],
   "source": [
    "from sklearn.model_selection import cross_val_score"
   ]
  },
  {
   "cell_type": "code",
   "execution_count": 61,
   "id": "ff3369fd-936a-441a-960c-4d6c55eb6998",
   "metadata": {},
   "outputs": [],
   "source": [
    "from sklearn.model_selection import ShuffleSplit"
   ]
  },
  {
   "cell_type": "code",
   "execution_count": 62,
   "id": "3ea550ba-9ef6-49b7-a76f-11fe5eb8d966",
   "metadata": {},
   "outputs": [],
   "source": [
    "cv = ShuffleSplit(n_splits=5,test_size=0.2,random_state=42)"
   ]
  },
  {
   "cell_type": "code",
   "execution_count": 63,
   "id": "645956ee-1f12-4b67-b650-ec8ffa207447",
   "metadata": {},
   "outputs": [
    {
     "data": {
      "text/plain": [
       "array([0.81213873, 0.84682081, 0.85549133, 0.82080925, 0.81791908])"
      ]
     },
     "execution_count": 63,
     "metadata": {},
     "output_type": "execute_result"
    }
   ],
   "source": [
    "cross_val_score(model,x,y,cv=cv)"
   ]
  },
  {
   "cell_type": "code",
   "execution_count": 140,
   "id": "5f235832-883e-4b93-9746-3ecb7668aded",
   "metadata": {},
   "outputs": [],
   "source": [
    "#test several machine learning models to find the model with the highest accuracy"
   ]
  },
  {
   "cell_type": "code",
   "execution_count": 65,
   "id": "f28af334-7654-499d-b9c5-5c390a36825f",
   "metadata": {},
   "outputs": [],
   "source": [
    "import numpy as np"
   ]
  },
  {
   "cell_type": "code",
   "execution_count": 66,
   "id": "203ae13a-ed34-4e06-b028-46076e1d8457",
   "metadata": {},
   "outputs": [],
   "source": [
    "from sklearn.ensemble import RandomForestClassifier\n",
    "from sklearn.tree import DecisionTreeClassifier\n",
    "from sklearn.svm import SVC"
   ]
  },
  {
   "cell_type": "code",
   "execution_count": 67,
   "id": "4c625b6d-19ef-4f7a-ace6-8ca8a4b260f7",
   "metadata": {},
   "outputs": [],
   "source": [
    "from xgboost import XGBClassifier"
   ]
  },
  {
   "cell_type": "code",
   "execution_count": 68,
   "id": "fd0caa35-2e99-4dc9-9db3-fadc1db13796",
   "metadata": {},
   "outputs": [],
   "source": [
    "models = [LogisticRegression(max_iter=1000),DecisionTreeClassifier(),RandomForestClassifier(),SVC(),XGBClassifier()]\n",
    "score = []\n",
    "\n",
    "for model in models:\n",
    "    scores = cross_val_score(model,x,y,cv=cv)\n",
    "    scores = np.round(np.array(scores),2)\n",
    "    score.append({\n",
    "        'model':model,\n",
    "        'scores':scores,\n",
    "        'mean_score':scores.mean()\n",
    "    })"
   ]
  },
  {
   "cell_type": "code",
   "execution_count": 69,
   "id": "a48e5e13-b327-4e64-8f55-f50cec3f0c9f",
   "metadata": {},
   "outputs": [
    {
     "data": {
      "text/html": [
       "<div>\n",
       "<style scoped>\n",
       "    .dataframe tbody tr th:only-of-type {\n",
       "        vertical-align: middle;\n",
       "    }\n",
       "\n",
       "    .dataframe tbody tr th {\n",
       "        vertical-align: top;\n",
       "    }\n",
       "\n",
       "    .dataframe thead th {\n",
       "        text-align: right;\n",
       "    }\n",
       "</style>\n",
       "<table border=\"1\" class=\"dataframe\">\n",
       "  <thead>\n",
       "    <tr style=\"text-align: right;\">\n",
       "      <th></th>\n",
       "      <th>model</th>\n",
       "      <th>scores</th>\n",
       "      <th>mean_score</th>\n",
       "    </tr>\n",
       "  </thead>\n",
       "  <tbody>\n",
       "    <tr>\n",
       "      <th>0</th>\n",
       "      <td>LogisticRegression(max_iter=1000)</td>\n",
       "      <td>[0.81, 0.85, 0.86, 0.82, 0.82]</td>\n",
       "      <td>0.832</td>\n",
       "    </tr>\n",
       "    <tr>\n",
       "      <th>1</th>\n",
       "      <td>DecisionTreeClassifier()</td>\n",
       "      <td>[0.97, 0.98, 0.97, 0.97, 0.96]</td>\n",
       "      <td>0.970</td>\n",
       "    </tr>\n",
       "    <tr>\n",
       "      <th>2</th>\n",
       "      <td>RandomForestClassifier()</td>\n",
       "      <td>[0.97, 0.98, 0.98, 0.98, 0.98]</td>\n",
       "      <td>0.978</td>\n",
       "    </tr>\n",
       "    <tr>\n",
       "      <th>3</th>\n",
       "      <td>SVC()</td>\n",
       "      <td>[0.95, 0.97, 0.97, 0.96, 0.94]</td>\n",
       "      <td>0.958</td>\n",
       "    </tr>\n",
       "    <tr>\n",
       "      <th>4</th>\n",
       "      <td>XGBClassifier(base_score=None, booster=None, c...</td>\n",
       "      <td>[0.98, 1.0, 0.99, 0.99, 0.99]</td>\n",
       "      <td>0.990</td>\n",
       "    </tr>\n",
       "  </tbody>\n",
       "</table>\n",
       "</div>"
      ],
      "text/plain": [
       "                                               model  \\\n",
       "0                  LogisticRegression(max_iter=1000)   \n",
       "1                           DecisionTreeClassifier()   \n",
       "2                           RandomForestClassifier()   \n",
       "3                                              SVC()   \n",
       "4  XGBClassifier(base_score=None, booster=None, c...   \n",
       "\n",
       "                           scores  mean_score  \n",
       "0  [0.81, 0.85, 0.86, 0.82, 0.82]       0.832  \n",
       "1  [0.97, 0.98, 0.97, 0.97, 0.96]       0.970  \n",
       "2  [0.97, 0.98, 0.98, 0.98, 0.98]       0.978  \n",
       "3  [0.95, 0.97, 0.97, 0.96, 0.94]       0.958  \n",
       "4   [0.98, 1.0, 0.99, 0.99, 0.99]       0.990  "
      ]
     },
     "execution_count": 69,
     "metadata": {},
     "output_type": "execute_result"
    }
   ],
   "source": [
    "pd.DataFrame(score)"
   ]
  },
  {
   "cell_type": "code",
   "execution_count": 70,
   "id": "8c7d0f24-1c14-4f82-b85a-1e34fb34c2cb",
   "metadata": {},
   "outputs": [
    {
     "data": {
      "text/plain": [
       "0.9855491329479769"
      ]
     },
     "execution_count": 70,
     "metadata": {},
     "output_type": "execute_result"
    }
   ],
   "source": [
    "model_1 = XGBClassifier()\n",
    "model_1.fit(x_train,y_train)\n",
    "model_1.score(x_test,y_test)"
   ]
  },
  {
   "cell_type": "code",
   "execution_count": 71,
   "id": "4e691e4d-b8b2-4178-948c-e17b20ce6d22",
   "metadata": {},
   "outputs": [],
   "source": [
    "y_predict_1 = model_1.predict(x_test)"
   ]
  },
  {
   "cell_type": "code",
   "execution_count": 72,
   "id": "e9ef4720-5993-472e-9b3c-3d54fb66880b",
   "metadata": {},
   "outputs": [
    {
     "data": {
      "text/plain": [
       "array([[242,   0,   0,   0],\n",
       "       [  1,  76,   0,   0],\n",
       "       [  0,   3,  10,   1],\n",
       "       [  0,   0,   0,  13]], dtype=int64)"
      ]
     },
     "execution_count": 72,
     "metadata": {},
     "output_type": "execute_result"
    }
   ],
   "source": [
    "confusion_matrix(y_test,y_predict_1)"
   ]
  },
  {
   "cell_type": "code",
   "execution_count": 73,
   "id": "4b21c973-8c79-4629-a028-aa6c9066ea9b",
   "metadata": {},
   "outputs": [
    {
     "name": "stdout",
     "output_type": "stream",
     "text": [
      "              precision    recall  f1-score   support\n",
      "\n",
      "           0       1.00      1.00      1.00       242\n",
      "           1       0.96      0.99      0.97        77\n",
      "           2       1.00      0.71      0.83        14\n",
      "           3       0.93      1.00      0.96        13\n",
      "\n",
      "    accuracy                           0.99       346\n",
      "   macro avg       0.97      0.93      0.94       346\n",
      "weighted avg       0.99      0.99      0.98       346\n",
      "\n"
     ]
    }
   ],
   "source": [
    "print(classification_report(y_test,y_predict_1))"
   ]
  },
  {
   "cell_type": "code",
   "execution_count": 142,
   "id": "4d29e9d1-1811-4f34-afa6-3a62d9aa197e",
   "metadata": {},
   "outputs": [],
   "source": [
    "#perform chi-square tests to check the relationship between the predictor variables and the target variable"
   ]
  },
  {
   "cell_type": "code",
   "execution_count": 74,
   "id": "c399b10d-341a-457b-83a7-05c49893985a",
   "metadata": {},
   "outputs": [],
   "source": [
    "from scipy.stats import chi2_contingency"
   ]
  },
  {
   "cell_type": "code",
   "execution_count": 75,
   "id": "3a96ecaa-806b-4e75-b56b-fc98ff59d4ab",
   "metadata": {},
   "outputs": [],
   "source": [
    "from tabulate import tabulate"
   ]
  },
  {
   "cell_type": "code",
   "execution_count": 76,
   "id": "d0d4519f-9406-47cc-b724-b3dbd1b6564c",
   "metadata": {},
   "outputs": [],
   "source": [
    "def chi_square_test(chisq_test):\n",
    "    table = [\n",
    "        ['statistic',chisq_test.statistic],\n",
    "        ['p-value',chisq_test.pvalue],\n",
    "        ['df',chisq_test.dof]\n",
    "    ]\n",
    "    \n",
    "    print(tabulate(table))"
   ]
  },
  {
   "cell_type": "code",
   "execution_count": 77,
   "id": "6c0f28a1-86d2-4ec6-b53a-0a3e2639f821",
   "metadata": {},
   "outputs": [
    {
     "name": "stdout",
     "output_type": "stream",
     "text": [
      "---------  --------------\n",
      "statistic  479.322\n",
      "p-value      2.38916e-100\n",
      "df           6\n",
      "---------  --------------\n"
     ]
    }
   ],
   "source": [
    "chisq_test = chi2_contingency(pd.crosstab(df['safety'],df['class']))\n",
    "chi_square_test(chisq_test)"
   ]
  },
  {
   "cell_type": "code",
   "execution_count": 78,
   "id": "4ffe1e4e-4f40-42b5-8914-3f9cd36af0d1",
   "metadata": {},
   "outputs": [
    {
     "data": {
      "text/plain": [
       "Index(['buying', 'maint', 'doors', 'persons', 'lug_boot', 'safety', 'class'], dtype='object')"
      ]
     },
     "execution_count": 78,
     "metadata": {},
     "output_type": "execute_result"
    }
   ],
   "source": [
    "df.columns"
   ]
  },
  {
   "cell_type": "code",
   "execution_count": 79,
   "id": "c51ce721-abdf-4a4a-a92f-798397d0966e",
   "metadata": {},
   "outputs": [
    {
     "name": "stdout",
     "output_type": "stream",
     "text": [
      "---------  -------------\n",
      "statistic  189.243\n",
      "p-value      5.92806e-36\n",
      "df           9\n",
      "---------  -------------\n"
     ]
    }
   ],
   "source": [
    "chisq_test = chi2_contingency(pd.crosstab(df['buying'],df['class']))\n",
    "chi_square_test(chisq_test)"
   ]
  },
  {
   "cell_type": "code",
   "execution_count": 80,
   "id": "713aca3f-9d1a-4b44-9982-f05ff3af134f",
   "metadata": {},
   "outputs": [
    {
     "name": "stdout",
     "output_type": "stream",
     "text": [
      "---------  -------------\n",
      "statistic  142.941\n",
      "p-value      2.54765e-26\n",
      "df           9\n",
      "---------  -------------\n"
     ]
    }
   ],
   "source": [
    "chisq_test = chi2_contingency(pd.crosstab(df['maint'],df['class']))\n",
    "chi_square_test(chisq_test)"
   ]
  },
  {
   "cell_type": "code",
   "execution_count": 81,
   "id": "8c7121a8-de5f-4da0-891c-5feeb3dfab99",
   "metadata": {},
   "outputs": [
    {
     "name": "stdout",
     "output_type": "stream",
     "text": [
      "---------  ---------\n",
      "statistic  10.3848\n",
      "p-value     0.320242\n",
      "df          9\n",
      "---------  ---------\n"
     ]
    }
   ],
   "source": [
    "chisq_test = chi2_contingency(pd.crosstab(df['doors'],df['class']))\n",
    "chi_square_test(chisq_test)"
   ]
  },
  {
   "cell_type": "code",
   "execution_count": 82,
   "id": "6b7d3ffe-f239-4725-8cd6-855970299d9d",
   "metadata": {},
   "outputs": [
    {
     "name": "stdout",
     "output_type": "stream",
     "text": [
      "---------  -------------\n",
      "statistic  371.337\n",
      "p-value      4.03997e-77\n",
      "df           6\n",
      "---------  -------------\n"
     ]
    }
   ],
   "source": [
    "chisq_test = chi2_contingency(pd.crosstab(df['persons'],df['class']))\n",
    "chi_square_test(chisq_test)"
   ]
  },
  {
   "cell_type": "code",
   "execution_count": 83,
   "id": "488a9183-026a-442e-877b-cac9bca5c871",
   "metadata": {},
   "outputs": [
    {
     "name": "stdout",
     "output_type": "stream",
     "text": [
      "---------  ------------\n",
      "statistic  53.282\n",
      "p-value     1.02944e-09\n",
      "df          6\n",
      "---------  ------------\n"
     ]
    }
   ],
   "source": [
    "chisq_test = chi2_contingency(pd.crosstab(df['lug_boot'],df['class']))\n",
    "chi_square_test(chisq_test)"
   ]
  },
  {
   "cell_type": "code",
   "execution_count": null,
   "id": "f66e9626-834b-4299-ac58-930c0d53e8c4",
   "metadata": {},
   "outputs": [],
   "source": []
  }
 ],
 "metadata": {
  "kernelspec": {
   "display_name": "Python 3 (ipykernel)",
   "language": "python",
   "name": "python3"
  },
  "language_info": {
   "codemirror_mode": {
    "name": "ipython",
    "version": 3
   },
   "file_extension": ".py",
   "mimetype": "text/x-python",
   "name": "python",
   "nbconvert_exporter": "python",
   "pygments_lexer": "ipython3",
   "version": "3.11.7"
  }
 },
 "nbformat": 4,
 "nbformat_minor": 5
}
